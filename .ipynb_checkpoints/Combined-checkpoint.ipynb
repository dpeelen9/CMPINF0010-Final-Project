{
 "cells": [
  {
   "cell_type": "code",
   "execution_count": 10,
   "metadata": {},
   "outputs": [
    {
     "name": "stdout",
     "output_type": "stream",
     "text": [
      "1. Mt. Oliver Neighborhood, 1 crimes\n",
      "2. Troy Hill-Herrs Island, 5 crimes\n",
      "3. Mt. Oliver Boro, 17 crimes\n",
      "4. Central Northside, 22 crimes\n",
      "5. Regent Square, 36 crimes\n",
      "6. Ridgemont, 36 crimes\n",
      "7. New Homestead, 38 crimes\n",
      "8. Swisshelm Park, 42 crimes\n",
      "9. Chartiers City, 45 crimes\n",
      "10. East Carnegie, 47 crimes\n",
      "11. St. Clair, 54 crimes\n",
      "12. Outside County, 56 crimes\n",
      "13. Outside State, 66 crimes\n",
      "14. Summer Hill, 75 crimes\n",
      "15. Oakwood, 81 crimes\n",
      "16. Golden Triangle/Civic Arena, 82 crimes\n",
      "17. Hays, 119 crimes\n",
      "18. Mount Oliver, 123 crimes\n",
      "19. Windgap, 123 crimes\n",
      "20. Fairywood, 126 crimes\n",
      "21. Allegheny West, 128 crimes\n",
      "22. Arlington Heights, 154 crimes\n",
      "23. Polish Hill, 165 crimes\n",
      "24. Glen Hazel, 168 crimes\n",
      "25. Friendship, 173 crimes\n",
      "26. Morningside, 187 crimes\n",
      "27. Upper Lawrenceville, 188 crimes\n",
      "28. Duquesne Heights, 190 crimes\n",
      "29. Esplen, 199 crimes\n"
     ]
    }
   ],
   "source": [
    "%run Danny-Notebook.ipynb"
   ]
  },
  {
   "cell_type": "code",
   "execution_count": 12,
   "metadata": {},
   "outputs": [
    {
     "name": "stdout",
     "output_type": "stream",
     "text": [
      "0. Mount Oliver Borough, 40 fires\n",
      "1. Regent Square, 48 fires\n",
      "2. East Carnegie, 55 fires\n",
      "3. Ridgemont, 56 fires\n",
      "4. St. Clair, 66 fires\n",
      "5. Arlington Heights, 69 fires\n",
      "6. Mt. Oliver, 74 fires\n",
      "7. Oakwood, 78 fires\n",
      "8. Swisshelm Park, 88 fires\n",
      "9. Chartiers City, 96 fires\n",
      "10. Glen Hazel, 101 fires\n",
      "11. Summer Hill, 108 fires\n",
      "12. New Homestead, 111 fires\n",
      "13. Bon Air, 112 fires\n",
      "14. South Shore, 116 fires\n",
      "15. West End, 122 fires\n",
      "16. Windgap, 128 fires\n",
      "17. Esplen, 130 fires\n",
      "18. Spring Garden, 134 fires\n",
      "19. Westwood, 138 fires\n",
      "20. Fairywood, 140 fires\n",
      "21. Hays, 140 fires\n",
      "22. Morningside, 156 fires\n",
      "23. Friendship, 165 fires\n",
      "24. Chateau, 204 fires\n",
      "25. Polish Hill, 212 fires\n",
      "26. Duquesne Heights, 222 fires\n",
      "27. Allegheny West, 229 fires\n",
      "28. California-Kirkbride, 233 fires\n",
      "29. Upper Hill, 250 fires\n",
      "30. Bedford Dwellings, 253 fires\n"
     ]
    }
   ],
   "source": [
    "%run Fire.ipynb"
   ]
  },
  {
   "cell_type": "code",
   "execution_count": null,
   "metadata": {},
   "outputs": [],
   "source": []
  }
 ],
 "metadata": {
  "kernelspec": {
   "display_name": "Python 3",
   "language": "python",
   "name": "python3"
  },
  "language_info": {
   "codemirror_mode": {
    "name": "ipython",
    "version": 3
   },
   "file_extension": ".py",
   "mimetype": "text/x-python",
   "name": "python",
   "nbconvert_exporter": "python",
   "pygments_lexer": "ipython3",
   "version": "3.8.3"
  }
 },
 "nbformat": 4,
 "nbformat_minor": 4
}
