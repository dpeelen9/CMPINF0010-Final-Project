{
 "cells": [
  {
   "cell_type": "code",
   "execution_count": 1,
   "metadata": {},
   "outputs": [
    {
     "name": "stdout",
     "output_type": "stream",
     "text": [
      "        _id     call_no  incident_type                     type_description  \\\n",
      "0         1  F160029985          111.0                        Building fire   \n",
      "1         2  F180022058          111.0                        Building fire   \n",
      "2         3  F180022102          131.0               Passenger vehicle fire   \n",
      "3         4  F170043431          131.0               Passenger vehicle fire   \n",
      "4         5  F180021111          111.0                        Building fire   \n",
      "...     ...         ...            ...                                  ...   \n",
      "9761  12509  F240025074          111.0                        Building fire   \n",
      "9762  12510  F240026212          111.0                        Building fire   \n",
      "9763  12511  F240026245          111.0                        Building fire   \n",
      "9764  12512  F240026266          111.0                        Building fire   \n",
      "9765  12513  F240026288          113.0  Cooking fire, confined to container   \n",
      "\n",
      "                                             address  alarms  \\\n",
      "0          800 BLOCK CENTER ST, WILKINSBURG PA 15221       1   \n",
      "1           1100 BLOCK JANE ST, WILKINSBURG PA 15221       1   \n",
      "2     SB STATE HWY 28 SB AT 31S, PITTSBURGH PA 15212       0   \n",
      "3         1700 BLOCK BELLEAU DR, PITTSBURGH PA 15212       0   \n",
      "4         2400 BLOCK VILLAGE RD, PITTSBURGH PA 15205       1   \n",
      "...                                              ...     ...   \n",
      "9761              5500 BLOCK BLACK ST, PITTSBURGH PA       1   \n",
      "9762         600 BLOCK N ATLANTIC AVE, PITTSBURGH PA       1   \n",
      "9763              700 BLOCK HILL AVE, WILKINSBURG PA       2   \n",
      "9764             100 BLOCK JUCUNDA ST, PITTSBURGH PA       1   \n",
      "9765                00 BLOCK KNOX AVE, PITTSBURGH PA       1   \n",
      "\n",
      "               alarm_time primary_unit  census_tract neighborhood  \\\n",
      "0     2016-04-21T05:01:04      231EN16           NaN          NaN   \n",
      "1     2018-03-13T08:34:43      231EN16           NaN          NaN   \n",
      "2     2018-03-13T11:54:23      231EN32        2406.0          NaN   \n",
      "3     2017-05-31T08:39:47      231EN38        2509.0     Fineview   \n",
      "4     2018-03-09T10:26:42      231EN31        2808.0    Fairywood   \n",
      "...                   ...          ...           ...          ...   \n",
      "9761  2024-03-24T19:29:18      231EN08        1113.0     Garfield   \n",
      "9762  2024-03-28T15:43:15      231EN08        1016.0     Garfield   \n",
      "9763  2024-03-28T18:15:31      231EN16           NaN          NaN   \n",
      "9764  2024-03-28T19:44:00      231EN22        3001.0    Knoxville   \n",
      "9765  2024-03-28T21:04:45      2314110        3001.0    Knoxville   \n",
      "\n",
      "      council_district  ward         tract  public_works_division  \\\n",
      "0                  NaN   NaN  4.200356e+10                    NaN   \n",
      "1                  NaN   NaN  4.200356e+10                    NaN   \n",
      "2                  NaN   NaN           NaN                    NaN   \n",
      "3                  6.0  25.0  4.200325e+10                    1.0   \n",
      "4                  2.0  28.0  4.200356e+10                    5.0   \n",
      "...                ...   ...           ...                    ...   \n",
      "9761               9.0  11.0  4.200311e+10                    2.0   \n",
      "9762               9.0  10.0  4.200310e+10                    2.0   \n",
      "9763               NaN   NaN           NaN                    NaN   \n",
      "9764               3.0  30.0  4.200330e+10                    5.0   \n",
      "9765               3.0  30.0  4.200330e+10                    5.0   \n",
      "\n",
      "      pli_division  police_zone fire_zone   latitude  longitude  \n",
      "0              NaN          NaN      3-16  40.441275 -79.882485  \n",
      "1              NaN          NaN      3-21  40.436342 -79.881003  \n",
      "2              NaN          NaN      1-1A        NaN        NaN  \n",
      "3             25.0          1.0      1-10  40.460303 -80.006980  \n",
      "4             28.0          6.0      1-16  40.449009 -80.076607  \n",
      "...            ...          ...       ...        ...        ...  \n",
      "9761          11.0          5.0       3-4  40.469396 -79.929881  \n",
      "9762          10.0          5.0       3-4  40.468226 -79.938179  \n",
      "9763           NaN          NaN      3-16        NaN        NaN  \n",
      "9764          30.0          3.0       4-6  40.417399 -79.988220  \n",
      "9765          30.0          3.0       4-6  40.418412 -79.990703  \n",
      "\n",
      "[9766 rows x 19 columns]\n"
     ]
    }
   ],
   "source": [
    "import pandas as pd\n",
    "import matplotlib.pyplot as plt\n",
    "import numpy as np\n",
    "import copy\n",
    "\n",
    "fire_data = pd.read_csv(\"Fire-Incidents.csv\")\n",
    "print(fire_data)"
   ]
  },
  {
   "cell_type": "raw",
   "metadata": {},
   "source": [
    "I clean up the general information from the csv. Remove unecessary information and remove null neighborhoods."
   ]
  },
  {
   "cell_type": "code",
   "execution_count": 2,
   "metadata": {},
   "outputs": [
    {
     "name": "stdout",
     "output_type": "stream",
     "text": [
      "      incident_type                     type_description  \\\n",
      "3             131.0               Passenger vehicle fire   \n",
      "4             111.0                        Building fire   \n",
      "5             150.0          Outside rubbish fire, Other   \n",
      "6             113.0  Cooking fire, confined to container   \n",
      "7             111.0                        Building fire   \n",
      "...             ...                                  ...   \n",
      "9760          131.0               Passenger vehicle fire   \n",
      "9761          111.0                        Building fire   \n",
      "9762          111.0                        Building fire   \n",
      "9764          111.0                        Building fire   \n",
      "9765          113.0  Cooking fire, confined to container   \n",
      "\n",
      "                  neighborhood  \n",
      "3                     Fineview  \n",
      "4                    Fairywood  \n",
      "5             South Side Flats  \n",
      "6             Allegheny Center  \n",
      "7     Lincoln-Lemington-Belmar  \n",
      "...                        ...  \n",
      "9760                 Knoxville  \n",
      "9761                  Garfield  \n",
      "9762                  Garfield  \n",
      "9764                 Knoxville  \n",
      "9765                 Knoxville  \n",
      "\n",
      "[8298 rows x 3 columns]\n"
     ]
    }
   ],
   "source": [
    "fire_data = fire_data.drop(columns=[\"_id\", \"call_no\", \"address\", \"alarms\", \"alarm_time\", \"primary_unit\", \"census_tract\", \"council_district\", \"ward\", \"tract\", \"public_works_division\", \"pli_division\", \"police_zone\", \"fire_zone\", \"latitude\", \"longitude\"])\n",
    "query_mask = fire_data[\"neighborhood\"].notnull()\n",
    "fire_data = fire_data[query_mask]\n",
    "print(fire_data)"
   ]
  },
  {
   "cell_type": "raw",
   "metadata": {},
   "source": [
    "Find the types of fires that are in the csv and put them next to their categorization"
   ]
  },
  {
   "cell_type": "code",
   "execution_count": 3,
   "metadata": {},
   "outputs": [
    {
     "name": "stdout",
     "output_type": "stream",
     "text": [
      "40 40\n",
      "131.0  -  Passenger vehicle fire\n",
      "111.0  -  Building fire\n",
      "150.0  -  Outside rubbish fire, Other\n",
      "113.0  -  Cooking fire, confined to container\n",
      "151.0  -  Outside rubbish, trash or waste fire\n",
      "118.0  -  Trash or rubbish fire, contained\n",
      "142.0  -  Brush or brush-and-grass mixture fire\n",
      "160.0  -  Special outside fire, Other\n",
      "130.0  -  Mobile property (vehicle) fire, Other\n",
      "116.0  -  Fuel burner/boiler malfunction, fire confined\n",
      "112.0  -  Fires in structure other than in a building\n",
      "138.0  -  Off-road vehicle or heavy equipment fire\n",
      "162.0  -  Outside equipment fire\n",
      "100.0  -  Fire, Other\n",
      "152.0  -  Garbage dump or sanitary landfill fire\n",
      "154.0  -  Dumpster or other outside trash receptacle fire\n",
      "143.0  -  Grass fire\n",
      "114.0  -  Chimney or flue fire, confined to chimney or flue\n",
      "140.0  -  Natural vegetation fire, Other\n",
      "117.0  -  Commercial Compactor fire, confined to rubbish\n",
      "136.0  -  Self-propelled motor home or recreational vehicle\n",
      "161.0  -  Outside storage fire\n",
      "153.0  -  Construction or demolition landfill fire\n",
      "141.0  -  Forest, woods or wildland fire\n",
      "132.0  -  Road freight or transport vehicle fire\n",
      "133.0  -  Rail vehicle fire\n",
      "123.0  -  Fire in portable building, fixed location\n",
      "120.0  -  Fire in mobile prop used as a fixed struc, Other\n",
      "134.0  -  Water vehicle fire\n",
      "163.0  -  Outside gas or vapor combustion explosion\n",
      "155.0  -  Outside stationary compactor/compacted trash fire\n",
      "173.0  -  Cultivated trees or nursery stock fire\n",
      "115.0  -  Incinerator overload or malfunction, fire confined\n",
      "171.0  -  Cultivated grain or crop fire\n",
      "164.0  -  Outside mailbox fire\n",
      "170.0  -  Cultivated vegetation, crop fire, Other\n",
      "121.0  -  Fire in mobile home used as fixed residence\n",
      "122.0  -  Fire in motor home, camper, recreational vehicle\n",
      "137.0  -  Camper or recreational vehicle (RV) fire\n",
      "110.0  -  Structure fire, Other (conversion only)\n"
     ]
    }
   ],
   "source": [
    "fire_type = (fire_data[\"incident_type\"].unique())\n",
    "fire_type = np.delete(fire_type, 38) # Deletes nan\n",
    "fire_desc = (fire_data[\"type_description\"].unique())\n",
    "print(len(fire_type), len(fire_desc))\n",
    "for x in range(len(fire_type)):\n",
    "    print(fire_type[x], \" - \", fire_desc[x])"
   ]
  },
  {
   "cell_type": "raw",
   "metadata": {},
   "source": [
    "Assign a value to each fire type in order of severity ranging from 1 to 10.\n",
    "This is purely what I believe and my metric. Others may disagree or treat all fires as the same.\n",
    "The default is 3 if the description is unclear.\n",
    "Values are in list that corresponds to the list above."
   ]
  },
  {
   "cell_type": "code",
   "execution_count": 4,
   "metadata": {},
   "outputs": [
    {
     "name": "stdout",
     "output_type": "stream",
     "text": [
      "40\n"
     ]
    }
   ],
   "source": [
    "fire_val = [4, 7, 6, 5, 6, 5, 5, 3, 6, 7, 3, 7, 6, 3, 9, 7, 2, 1, 3, 5, 6, 4, 9, 9, 8, 8, 6, 6, 5, 10, 9, 7, 8, 5, 3, 4, 6, 6, 6, 3]\n",
    "print(len(fire_val))"
   ]
  },
  {
   "cell_type": "raw",
   "metadata": {},
   "source": [
    "Create main dictionary of information"
   ]
  },
  {
   "cell_type": "code",
   "execution_count": 5,
   "metadata": {},
   "outputs": [
    {
     "name": "stdout",
     "output_type": "stream",
     "text": [
      "91\n",
      "91\n",
      "{'Fineview': 0, 'Fairywood': 0, 'South Side Flats': 0, 'Allegheny Center': 0, 'Lincoln-Lemington-Belmar': 0, 'Carrick': 0, 'Beechview': 0, 'Allentown': 0, 'Beltzhoover': 0, 'Crafton Heights': 0, 'Homewood North': 0, 'Squirrel Hill South': 0, 'Perry North': 0, 'Bedford Dwellings': 0, 'Homewood South': 0, 'East Allegheny': 0, 'Crawford-Roberts': 0, 'Sheraden': 0, 'Middle Hill': 0, 'Strip District': 0, 'East Hills': 0, 'Garfield': 0, 'Greenfield': 0, 'North Shore': 0, 'Spring Hill-City View': 0, 'Central Business District': 0, 'Upper Hill': 0, 'Manchester': 0, 'Overbrook': 0, 'Polish Hill': 0, 'Central Lawrenceville': 0, 'Brookline': 0, 'Marshall-Shadeland': 0, 'North Oakland': 0, 'South Oakland': 0, 'Homewood West': 0, 'East Liberty': 0, 'Hazelwood': 0, 'Squirrel Hill North': 0, 'Friendship': 0, 'West Oakland': 0, 'Terrace Village': 0, 'Brighton Heights': 0, 'Troy Hill': 0, 'Windgap': 0, 'Knoxville': 0, 'Upper Lawrenceville': 0, 'Arlington': 0, 'Elliott': 0, 'South Side Slopes': 0, 'Bloomfield': 0, 'Perry South': 0, 'Central Northside': 0, 'Point Breeze': 0, 'Bluff': 0, 'Mount Washington': 0, 'Point Breeze North': 0, 'Swisshelm Park': 0, 'Banksville': 0, 'Shadyside': 0, 'Spring Garden': 0, 'Regent Square': 0, 'Allegheny West': 0, 'Lower Lawrenceville': 0, 'Larimer': 0, 'Highland Park': 0, 'Stanton Heights': 0, 'Bon Air': 0, 'Glen Hazel': 0, 'Lincoln Place': 0, 'West End': 0, 'Central Oakland': 0, 'Ridgemont': 0, 'Westwood': 0, 'Summer Hill': 0, 'Esplen': 0, 'Morningside': 0, 'Hays': 0, 'Duquesne Heights': 0, 'California-Kirkbride': 0, 'Northview Heights': 0, 'New Homestead': 0, 'Chateau': 0, 'Mount Oliver Borough': 0, 'St. Clair': 0, 'East Carnegie': 0, 'Arlington Heights': 0, 'South Shore': 0, 'Oakwood': 0, 'Chartiers City': 0, 'Mt. Oliver': 0}\n"
     ]
    }
   ],
   "source": [
    "neighborhoods = fire_data[\"neighborhood\"].unique()\n",
    "print(len(neighborhoods))\n",
    "fire_dict = dict()\n",
    "for n in neighborhoods:\n",
    "    fire_dict[n] = 0\n",
    "print(len(fire_dict))\n",
    "print(fire_dict)"
   ]
  },
  {
   "cell_type": "raw",
   "metadata": {},
   "source": [
    "Calculate the value for each neighborhood listed above, which is equal to the sum of each fire times its risk value."
   ]
  },
  {
   "cell_type": "code",
   "execution_count": 6,
   "metadata": {},
   "outputs": [
    {
     "name": "stdout",
     "output_type": "stream",
     "text": [
      "{'Fineview': 266, 'Fairywood': 140, 'South Side Flats': 1434, 'Allegheny Center': 313, 'Lincoln-Lemington-Belmar': 1048, 'Carrick': 1620, 'Beechview': 791, 'Allentown': 710, 'Beltzhoover': 712, 'Crafton Heights': 466, 'Homewood North': 1035, 'Squirrel Hill South': 1332, 'Perry North': 599, 'Bedford Dwellings': 253, 'Homewood South': 1060, 'East Allegheny': 703, 'Crawford-Roberts': 591, 'Sheraden': 1003, 'Middle Hill': 562, 'Strip District': 364, 'East Hills': 821, 'Garfield': 618, 'Greenfield': 608, 'North Shore': 357, 'Spring Hill-City View': 599, 'Central Business District': 1498, 'Upper Hill': 250, 'Manchester': 425, 'Overbrook': 323, 'Polish Hill': 212, 'Central Lawrenceville': 431, 'Brookline': 1086, 'Marshall-Shadeland': 768, 'North Oakland': 657, 'South Oakland': 494, 'Homewood West': 335, 'East Liberty': 1136, 'Hazelwood': 1345, 'Squirrel Hill North': 716, 'Friendship': 165, 'West Oakland': 323, 'Terrace Village': 440, 'Brighton Heights': 829, 'Troy Hill': 456, 'Windgap': 128, 'Knoxville': 1068, 'Upper Lawrenceville': 274, 'Arlington': 291, 'Elliott': 386, 'South Side Slopes': 519, 'Bloomfield': 964, 'Perry South': 912, 'Central Northside': 715, 'Point Breeze': 358, 'Bluff': 736, 'Mount Washington': 1187, 'Point Breeze North': 261, 'Swisshelm Park': 88, 'Banksville': 319, 'Shadyside': 987, 'Spring Garden': 134, 'Regent Square': 48, 'Allegheny West': 229, 'Lower Lawrenceville': 324, 'Larimer': 703, 'Highland Park': 407, 'Stanton Heights': 310, 'Bon Air': 112, 'Glen Hazel': 101, 'Lincoln Place': 335, 'West End': 122, 'Central Oakland': 529, 'Ridgemont': 56, 'Westwood': 138, 'Summer Hill': 108, 'Esplen': 130, 'Morningside': 156, 'Hays': 140, 'Duquesne Heights': 222, 'California-Kirkbride': 233, 'Northview Heights': 347, 'New Homestead': 111, 'Chateau': 204, 'Mount Oliver Borough': 40, 'St. Clair': 66, 'East Carnegie': 55, 'Arlington Heights': 69, 'South Shore': 116, 'Oakwood': 78, 'Chartiers City': 96, 'Mt. Oliver': 74}\n"
     ]
    }
   ],
   "source": [
    "for row in fire_data.iterrows():\n",
    "    find = row[1][\"incident_type\"]\n",
    "    index = -1\n",
    "    for x in range(len(fire_type)):\n",
    "        if fire_type[x] == find:\n",
    "            index = x\n",
    "            break\n",
    "    fire_dict[row[1][\"neighborhood\"]] += fire_val[index]\n",
    "print(fire_dict)"
   ]
  },
  {
   "cell_type": "raw",
   "metadata": {},
   "source": [
    "Graphical representation of data created from dictionary"
   ]
  },
  {
   "cell_type": "code",
   "execution_count": 7,
   "metadata": {},
   "outputs": [
    {
     "data": {
      "image/png": "[encoded data removed]",
      "text/plain": [
       "<Figure size 432x288 with 1 Axes>"
      ]
     },
     "metadata": {
      "needs_background": "light"
     },
     "output_type": "display_data"
    }
   ],
   "source": [
    "best_fire = copy.deepcopy(fire_dict)\n",
    "\n",
    "for key, value in fire_dict.items():\n",
    "    if value > 260:\n",
    "        best_fire.pop(key)\n",
    "\n",
    "best_fire = dict(sorted(best_fire.items(), key=lambda item: item[1]))\n",
    "\n",
    "plt.bar(range(len(best_fire)), list(best_fire.values()), tick_label=list(best_fire.keys()))\n",
    "plt.xticks(rotation='vertical')\n",
    "plt.show()"
   ]
  },
  {
   "cell_type": "code",
   "execution_count": null,
   "metadata": {},
   "outputs": [],
   "source": []
  }
 ],
 "metadata": {
  "kernelspec": {
   "display_name": "Python 3",
   "language": "python",
   "name": "python3"
  },
  "language_info": {
   "codemirror_mode": {
    "name": "ipython",
    "version": 3
   },
   "file_extension": ".py",
   "mimetype": "text/x-python",
   "name": "python",
   "nbconvert_exporter": "python",
   "pygments_lexer": "ipython3",
   "version": "3.8.3"
  }
 },
 "nbformat": 4,
 "nbformat_minor": 4
}
