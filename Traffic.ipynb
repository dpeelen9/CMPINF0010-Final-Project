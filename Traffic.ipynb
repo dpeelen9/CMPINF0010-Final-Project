{
 "cells": [
  {
   "cell_type": "code",
   "execution_count": 2,
   "metadata": {},
   "outputs": [
    {
     "name": "stdout",
     "output_type": "stream",
     "text": [
      "   _id          id  device_id    record_oid count_start_date count_end_date  \\\n",
      "0    1  1011743669         85  1.445865e+09       2019-04-18     2019-04-26   \n",
      "1    2  1026101993        140  1.121444e+09       2019-01-24            NaN   \n",
      "2    3  1032382575         11  1.539893e+09       2018-08-28     2018-09-04   \n",
      "3    4   103627606          9  7.341951e+08       2018-07-17     2018-08-01   \n",
      "4    5  1039546167        144           NaN              NaN            NaN   \n",
      "\n",
      "   average_daily_car_traffic  average_daily_bike_traffic counter_number  \\\n",
      "0                     4949.0                         NaN              6   \n",
      "1                        NaN                         NaN            NaN   \n",
      "2                        NaN                         NaN            NaN   \n",
      "3                     2741.0                         NaN            NaN   \n",
      "4                        NaN                         NaN            NaN   \n",
      "\n",
      "         counter_type  ...  longitude   latitude           neighborhood  \\\n",
      "0            StatTrak  ... -79.967772  40.455733            Polish Hill   \n",
      "1  Intersection Study  ... -79.952249  40.466157  Central Lawrenceville   \n",
      "2                 NaN  ... -80.076469  40.460717                Windgap   \n",
      "3            StatTrak  ... -79.914335  40.437379    Squirrel Hill South   \n",
      "4                 NaN  ... -80.019211  40.490794            Perry North   \n",
      "\n",
      "   council_district  ward        tract  public_works_division  pli_division  \\\n",
      "0               7.0   6.0  42003060500                    6.0           6.0   \n",
      "1               7.0   9.0  42003090200                    2.0           9.0   \n",
      "2               2.0  28.0  42003563000                    5.0          28.0   \n",
      "3               5.0  14.0  42003140800                    3.0          14.0   \n",
      "4               1.0  26.0  42003260200                    1.0          26.0   \n",
      "\n",
      "  police_zone  fire_zone  \n",
      "0         2.0        2-6  \n",
      "1         2.0        3-6  \n",
      "2         6.0       1-16  \n",
      "3         4.0       2-18  \n",
      "4         1.0       1-15  \n",
      "\n",
      "[5 rows x 26 columns]\n"
     ]
    }
   ],
   "source": [
    "import pandas as pd\n",
    "import matplotlib.pyplot as plt\n",
    "import numpy as np\n",
    "import copy\n",
    "import math\n",
    "\n",
    "data = pd.read_csv('Traffic.csv')\n",
    "print(data.head())"
   ]
  },
  {
   "cell_type": "markdown",
   "metadata": {},
   "source": [
    "Cleaned up the general information from the csv and removed unecessary information including remove null neighborhoods."
   ]
  },
  {
   "cell_type": "code",
   "execution_count": 3,
   "metadata": {},
   "outputs": [
    {
     "name": "stdout",
     "output_type": "stream",
     "text": [
      "     average_daily_car_traffic           neighborhood\n",
      "0                       4949.0            Polish Hill\n",
      "1                          0.0  Central Lawrenceville\n",
      "2                          0.0                Windgap\n",
      "3                       2741.0    Squirrel Hill South\n",
      "4                          0.0            Perry North\n",
      "..                         ...                    ...\n",
      "415                        0.0            Summer Hill\n",
      "416                        0.0       Brighton Heights\n",
      "417                        0.0             Upper Hill\n",
      "418                        0.0            Middle Hill\n",
      "419                        0.0       Crawford-Roberts\n",
      "\n",
      "[418 rows x 2 columns]\n"
     ]
    }
   ],
   "source": [
    "data = data.drop(columns=[\"_id\", \"id\", \"device_id\", \"record_oid\", \"count_start_date\", \"count_end_date\", \"average_daily_bike_traffic\", \"counter_number\", \"counter_type\", \"longitude\", \"latitude\", \"council_district\", \"ward\", \"tract\", \"public_works_division\", \"pli_division\", \"police_zone\", \"fire_zone\", \"speed_limit\", \"max_speed\", \"median_speed\", \"percent_over_limit\", \"speed85_percent\", \"speed95_percent\"])\n",
    "query_mask = data[\"neighborhood\"].notnull()\n",
    "data = data[query_mask]\n",
    "data[\"average_daily_car_traffic\"] = data[\"average_daily_car_traffic\"].fillna(0)\n",
    "\n",
    "print(data)"
   ]
  },
  {
   "cell_type": "markdown",
   "metadata": {},
   "source": [
    "Create main dictionary for information"
   ]
  },
  {
   "cell_type": "code",
   "execution_count": 15,
   "metadata": {},
   "outputs": [
    {
     "name": "stdout",
     "output_type": "stream",
     "text": [
      "98\n",
      "{'Bloomfield': 0, 'Outside City': 0, 'Westwood': 0, 'East Allegheny': 0, 'Crafton Heights': 0, 'Greenfield': 0, 'Brookline': 0, 'Regent Square': 0, 'East Liberty': 0, 'East Hills': 0, 'Carrick': 0, 'Allegheny Center': 0, 'South Side Flats': 0, 'Sheraden': 0, 'East Carnegie': 0, 'Golden Triangle/Civic Arena': 0, 'Point Breeze North': 0, 'Perry South': 0, 'Allentown': 0, 'North Shore': 0, 'Marshall-Shadeland': 0, 'Central Oakland': 0, 'Middle Hill': 0, 'Strip District': 0, 'Lincoln-Lemington-Belmar': 0, 'Central Northside': 0, 'Troy Hill-Herrs Island': 0, 'Highland Park': 0, 'Homewood North': 0, 'Northview Heights': 0, 'Brighton Heights': 0, 'Hazelwood': 0, 'Perry North': 0, 'Bedford Dwellings': 0, 'Elliott': 0, 'Beechview': 0, 'Fineview': 0, 'Glen Hazel': 0, 'Spring Hill-City View': 0, 'Bluff': 0, 'Manchester': 0, 'Homewood West': 0, 'Outside County': 0, 'Point Breeze': 0, 'Homewood South': 0, 'Squirrel Hill South': 0, 'Terrace Village': 0, 'Upper Lawrenceville': 0, 'Arlington': 0, 'South Side Slopes': 0, 'Lower Lawrenceville': 0, 'Garfield': 0, 'Lincoln Place': 0, 'Larimer': 0, 'Mount Washington': 0, 'California-Kirkbride': 0, 'Banksville': 0, 'Bon Air': 0, 'South Shore': 0, 'Beltzhoover': 0, 'Knoxville': 0, 'Chateau': 0, 'Crawford-Roberts': 0, 'Polish Hill': 0, 'Fairywood': 0, 'West End': 0, 'Shadyside': 0, 'Morningside': 0, 'Overbrook': 0, 'Friendship': 0, 'North Oakland': 0, 'Central Lawrenceville': 0, 'Oakwood': 0, 'Upper Hill': 0, 'South Oakland': 0, 'West Oakland': 0, 'Spring Garden': 0, 'Allegheny West': 0, 'St. Clair': 0, 'Stanton Heights': 0, 'Esplen': 0, 'Squirrel Hill North': 0, 'Mt. Oliver Neighborhood': 0, 'Summer Hill': 0, 'Arlington Heights': 0, 'Troy Hill': 0, 'Central Business District': 0, 'Central North Side': 0, 'Windgap': 0, 'Outside State': 0, 'Duquesne Heights': 0, 'New Homestead': 0, 'Ridgemont': 0, 'Swisshelm Park': 0, 'Hays': 0, 'Chartiers City': 0, 'Mount Oliver Borough': 0, 'Mt. Oliver': 0}\n"
     ]
    }
   ],
   "source": [
    "traf_dict = dict()\n",
    "\n",
    "%store -r frequencies\n",
    "\n",
    "neighborhoods = frequencies.keys()\n",
    "\n",
    "for neigh in frequencies.keys():\n",
    "    traf_dict[neigh] = 0\n",
    "\n",
    "print(len(traf_dict))\n",
    "print(traf_dict)"
   ]
  },
  {
   "cell_type": "markdown",
   "metadata": {},
   "source": [
    "Fill dictionary with traffic data and calculate the average of the places with data"
   ]
  },
  {
   "cell_type": "code",
   "execution_count": 16,
   "metadata": {},
   "outputs": [
    {
     "name": "stdout",
     "output_type": "stream",
     "text": [
      "64 14570.140625\n",
      "{'Bloomfield': 43101.0, 'Outside City': 0, 'Westwood': 15400.0, 'East Allegheny': 1924.0, 'Crafton Heights': 11500.0, 'Greenfield': 7158.0, 'Brookline': 39144.0, 'Regent Square': 16729.0, 'East Liberty': 51247.0, 'East Hills': 16253.0, 'Carrick': 13787.0, 'Allegheny Center': 2386.0, 'South Side Flats': 115.0, 'Sheraden': 8532.0, 'East Carnegie': 0, 'Golden Triangle/Civic Arena': 0, 'Point Breeze North': 9928.0, 'Perry South': 12075.0, 'Allentown': 0, 'North Shore': 10350.0, 'Marshall-Shadeland': 15520.0, 'Central Oakland': 11306.0, 'Middle Hill': 0.0, 'Strip District': 29075.0, 'Lincoln-Lemington-Belmar': 195.0, 'Central Northside': 5945.0, 'Troy Hill-Herrs Island': 0, 'Highland Park': 23471.0, 'Homewood North': 7027.0, 'Northview Heights': 0, 'Brighton Heights': 7547.0, 'Hazelwood': 2579.0, 'Perry North': 19114.0, 'Bedford Dwellings': 0, 'Elliott': 4028.0, 'Beechview': 4255.0, 'Fineview': 419.0, 'Glen Hazel': 0, 'Spring Hill-City View': 2586.0, 'Bluff': 5365.0, 'Manchester': 21293.0, 'Homewood West': 0, 'Outside County': 0, 'Point Breeze': 31242.0, 'Homewood South': 42742.0, 'Squirrel Hill South': 79302.0, 'Terrace Village': 0, 'Upper Lawrenceville': 0.0, 'Arlington': 4571.0, 'South Side Slopes': 26447.0, 'Lower Lawrenceville': 3472.0, 'Garfield': 0, 'Lincoln Place': 126.0, 'Larimer': 37713.0, 'Mount Washington': 47336.0, 'California-Kirkbride': 14926.0, 'Banksville': 0.0, 'Bon Air': 0, 'South Shore': 0.0, 'Beltzhoover': 1577.0, 'Knoxville': 7646.0, 'Chateau': 0.0, 'Crawford-Roberts': 0.0, 'Polish Hill': 15894.0, 'Fairywood': 0, 'West End': 0, 'Shadyside': 66132.0, 'Morningside': 14345.0, 'Overbrook': 777.0, 'Friendship': 4887.0, 'North Oakland': 23821.0, 'Central Lawrenceville': 13499.0, 'Oakwood': 0.0, 'Upper Hill': 2860.0, 'South Oakland': 0.0, 'West Oakland': 2585.0, 'Spring Garden': 1226.0, 'Allegheny West': 477.0, 'St. Clair': 2436.0, 'Stanton Heights': 16272.0, 'Esplen': 0, 'Squirrel Hill North': 35452.0, 'Mt. Oliver Neighborhood': 0, 'Summer Hill': 937.0, 'Arlington Heights': 0, 'Troy Hill': 0.0, 'Central Business District': 2305.0, 'Central North Side': 0, 'Windgap': 3062.0, 'Outside State': 0, 'Duquesne Heights': 5831.0, 'New Homestead': 666.0, 'Ridgemont': 0, 'Swisshelm Park': 0.0, 'Hays': 0, 'Chartiers City': 2571.0, 'Mount Oliver Borough': 0, 'Mt. Oliver': 0}\n"
     ]
    }
   ],
   "source": [
    "total = 0\n",
    "\n",
    "\n",
    "for row in data.iterrows():\n",
    "    traf_dict[row[1][\"neighborhood\"]] += row[1][\"average_daily_car_traffic\"]\n",
    "    total += int(row[1][\"average_daily_car_traffic\"])\n",
    "\n",
    "vals = 0\n",
    "for n in neighborhoods:\n",
    "    if traf_dict[n] != 0:\n",
    "        vals += 1\n",
    "\n",
    "average = total / vals\n",
    "print(vals, average)\n",
    "print(traf_dict)"
   ]
  },
  {
   "cell_type": "markdown",
   "metadata": {},
   "source": [
    "We use the average traffic of the neighborhoods with data and apply it across all neighborhoods currently listed as 0. This is due to the fact that all neighborhoods have >0 traffic."
   ]
  },
  {
   "cell_type": "code",
   "execution_count": 17,
   "metadata": {},
   "outputs": [
    {
     "name": "stdout",
     "output_type": "stream",
     "text": [
      "{'Bloomfield': 43101.0, 'Outside City': 14570, 'Westwood': 15400.0, 'East Allegheny': 1924.0, 'Crafton Heights': 11500.0, 'Greenfield': 7158.0, 'Brookline': 39144.0, 'Regent Square': 16729.0, 'East Liberty': 51247.0, 'East Hills': 16253.0, 'Carrick': 13787.0, 'Allegheny Center': 2386.0, 'South Side Flats': 115.0, 'Sheraden': 8532.0, 'East Carnegie': 14570, 'Golden Triangle/Civic Arena': 14570, 'Point Breeze North': 9928.0, 'Perry South': 12075.0, 'Allentown': 14570, 'North Shore': 10350.0, 'Marshall-Shadeland': 15520.0, 'Central Oakland': 11306.0, 'Middle Hill': 14570, 'Strip District': 29075.0, 'Lincoln-Lemington-Belmar': 195.0, 'Central Northside': 5945.0, 'Troy Hill-Herrs Island': 14570, 'Highland Park': 23471.0, 'Homewood North': 7027.0, 'Northview Heights': 14570, 'Brighton Heights': 7547.0, 'Hazelwood': 2579.0, 'Perry North': 19114.0, 'Bedford Dwellings': 14570, 'Elliott': 4028.0, 'Beechview': 4255.0, 'Fineview': 419.0, 'Glen Hazel': 14570, 'Spring Hill-City View': 2586.0, 'Bluff': 5365.0, 'Manchester': 21293.0, 'Homewood West': 14570, 'Outside County': 14570, 'Point Breeze': 31242.0, 'Homewood South': 42742.0, 'Squirrel Hill South': 79302.0, 'Terrace Village': 14570, 'Upper Lawrenceville': 14570, 'Arlington': 4571.0, 'South Side Slopes': 26447.0, 'Lower Lawrenceville': 3472.0, 'Garfield': 14570, 'Lincoln Place': 126.0, 'Larimer': 37713.0, 'Mount Washington': 47336.0, 'California-Kirkbride': 14926.0, 'Banksville': 14570, 'Bon Air': 14570, 'South Shore': 14570, 'Beltzhoover': 1577.0, 'Knoxville': 7646.0, 'Chateau': 14570, 'Crawford-Roberts': 14570, 'Polish Hill': 15894.0, 'Fairywood': 14570, 'West End': 14570, 'Shadyside': 66132.0, 'Morningside': 14345.0, 'Overbrook': 777.0, 'Friendship': 4887.0, 'North Oakland': 23821.0, 'Central Lawrenceville': 13499.0, 'Oakwood': 14570, 'Upper Hill': 2860.0, 'South Oakland': 14570, 'West Oakland': 2585.0, 'Spring Garden': 1226.0, 'Allegheny West': 477.0, 'St. Clair': 2436.0, 'Stanton Heights': 16272.0, 'Esplen': 14570, 'Squirrel Hill North': 35452.0, 'Mt. Oliver Neighborhood': 14570, 'Summer Hill': 937.0, 'Arlington Heights': 14570, 'Troy Hill': 14570, 'Central Business District': 2305.0, 'Central North Side': 14570, 'Windgap': 3062.0, 'Outside State': 14570, 'Duquesne Heights': 5831.0, 'New Homestead': 666.0, 'Ridgemont': 14570, 'Swisshelm Park': 14570, 'Hays': 14570, 'Chartiers City': 2571.0, 'Mount Oliver Borough': 14570, 'Mt. Oliver': 14570}\n",
      "Stored 'traf_dict' (dict)\n"
     ]
    }
   ],
   "source": [
    "for n in neighborhoods:\n",
    "    if traf_dict[n] == 0:\n",
    "        traf_dict[n] = int(average)\n",
    "\n",
    "print(traf_dict)\n",
    "%store traf_dict"
   ]
  },
  {
   "cell_type": "markdown",
   "metadata": {},
   "source": [
    "Create a graph showing the best of the neighborhoods"
   ]
  },
  {
   "cell_type": "code",
   "execution_count": 1,
   "metadata": {},
   "outputs": [
    {
     "ename": "NameError",
     "evalue": "name 'copy' is not defined",
     "output_type": "error",
     "traceback": [
      "\u001b[0;31m---------------------------------------------------------------------------\u001b[0m",
      "\u001b[0;31mNameError\u001b[0m                                 Traceback (most recent call last)",
      "\u001b[0;32m<ipython-input-1-b639b80f17c6>\u001b[0m in \u001b[0;36m<module>\u001b[0;34m\u001b[0m\n\u001b[0;32m----> 1\u001b[0;31m \u001b[0mbest_traf\u001b[0m \u001b[0;34m=\u001b[0m \u001b[0mcopy\u001b[0m\u001b[0;34m.\u001b[0m\u001b[0mdeepcopy\u001b[0m\u001b[0;34m(\u001b[0m\u001b[0mtraf_dict\u001b[0m\u001b[0;34m)\u001b[0m\u001b[0;34m\u001b[0m\u001b[0;34m\u001b[0m\u001b[0m\n\u001b[0m\u001b[1;32m      2\u001b[0m \u001b[0;34m\u001b[0m\u001b[0m\n\u001b[1;32m      3\u001b[0m \u001b[0;32mfor\u001b[0m \u001b[0mkey\u001b[0m\u001b[0;34m,\u001b[0m \u001b[0mvalue\u001b[0m \u001b[0;32min\u001b[0m \u001b[0mtraf_dict\u001b[0m\u001b[0;34m.\u001b[0m\u001b[0mitems\u001b[0m\u001b[0;34m(\u001b[0m\u001b[0;34m)\u001b[0m\u001b[0;34m:\u001b[0m\u001b[0;34m\u001b[0m\u001b[0;34m\u001b[0m\u001b[0m\n\u001b[1;32m      4\u001b[0m     \u001b[0;32mif\u001b[0m \u001b[0mvalue\u001b[0m \u001b[0;34m>\u001b[0m \u001b[0;36m1000\u001b[0m\u001b[0;34m:\u001b[0m\u001b[0;34m\u001b[0m\u001b[0;34m\u001b[0m\u001b[0m\n\u001b[1;32m      5\u001b[0m         \u001b[0mbest_traf\u001b[0m\u001b[0;34m.\u001b[0m\u001b[0mpop\u001b[0m\u001b[0;34m(\u001b[0m\u001b[0mkey\u001b[0m\u001b[0;34m)\u001b[0m\u001b[0;34m\u001b[0m\u001b[0;34m\u001b[0m\u001b[0m\n",
      "\u001b[0;31mNameError\u001b[0m: name 'copy' is not defined"
     ]
    }
   ],
   "source": [
    "best_traf = copy.deepcopy(traf_dict)\n",
    "\n",
    "for key, value in traf_dict.items():\n",
    "    if value > 1000:\n",
    "        best_traf.pop(key)\n",
    "\n",
    "best_traf = dict(sorted(best_traf.items(), key=lambda item: item[1]))\n",
    "plt.bar(range(len(best_traf)), list(best_traf.values()), tick_label=list(best_traf.keys()))\n",
    "plt.xticks(rotation='vertical')\n",
    "plt.show()"
   ]
  },
  {
   "cell_type": "code",
   "execution_count": null,
   "metadata": {},
   "outputs": [],
   "source": []
  }
 ],
 "metadata": {
  "kernelspec": {
   "display_name": "Python 3",
   "language": "python",
   "name": "python3"
  },
  "language_info": {
   "codemirror_mode": {
    "name": "ipython",
    "version": 3
   },
   "file_extension": ".py",
   "mimetype": "text/x-python",
   "name": "python",
   "nbconvert_exporter": "python",
   "pygments_lexer": "ipython3",
   "version": "3.8.3"
  }
 },
 "nbformat": 4,
 "nbformat_minor": 4
}
