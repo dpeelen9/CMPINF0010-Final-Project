{
 "cells": [
  {
   "cell_type": "code",
   "execution_count": 14,
   "metadata": {},
   "outputs": [
    {
     "name": "stdout",
     "output_type": "stream",
     "text": [
      "        _id     call_no  incident_type                     type_description  \\\n",
      "0         1  F160029985          111.0                        Building fire   \n",
      "1         2  F180022058          111.0                        Building fire   \n",
      "2         3  F180022102          131.0               Passenger vehicle fire   \n",
      "3         4  F170043431          131.0               Passenger vehicle fire   \n",
      "4         5  F180021111          111.0                        Building fire   \n",
      "...     ...         ...            ...                                  ...   \n",
      "9761  12509  F240025074          111.0                        Building fire   \n",
      "9762  12510  F240026212          111.0                        Building fire   \n",
      "9763  12511  F240026245          111.0                        Building fire   \n",
      "9764  12512  F240026266          111.0                        Building fire   \n",
      "9765  12513  F240026288          113.0  Cooking fire, confined to container   \n",
      "\n",
      "                                             address  alarms  \\\n",
      "0          800 BLOCK CENTER ST, WILKINSBURG PA 15221       1   \n",
      "1           1100 BLOCK JANE ST, WILKINSBURG PA 15221       1   \n",
      "2     SB STATE HWY 28 SB AT 31S, PITTSBURGH PA 15212       0   \n",
      "3         1700 BLOCK BELLEAU DR, PITTSBURGH PA 15212       0   \n",
      "4         2400 BLOCK VILLAGE RD, PITTSBURGH PA 15205       1   \n",
      "...                                              ...     ...   \n",
      "9761              5500 BLOCK BLACK ST, PITTSBURGH PA       1   \n",
      "9762         600 BLOCK N ATLANTIC AVE, PITTSBURGH PA       1   \n",
      "9763              700 BLOCK HILL AVE, WILKINSBURG PA       2   \n",
      "9764             100 BLOCK JUCUNDA ST, PITTSBURGH PA       1   \n",
      "9765                00 BLOCK KNOX AVE, PITTSBURGH PA       1   \n",
      "\n",
      "               alarm_time primary_unit  census_tract neighborhood  \\\n",
      "0     2016-04-21T05:01:04      231EN16           NaN          NaN   \n",
      "1     2018-03-13T08:34:43      231EN16           NaN          NaN   \n",
      "2     2018-03-13T11:54:23      231EN32        2406.0          NaN   \n",
      "3     2017-05-31T08:39:47      231EN38        2509.0     Fineview   \n",
      "4     2018-03-09T10:26:42      231EN31        2808.0    Fairywood   \n",
      "...                   ...          ...           ...          ...   \n",
      "9761  2024-03-24T19:29:18      231EN08        1113.0     Garfield   \n",
      "9762  2024-03-28T15:43:15      231EN08        1016.0     Garfield   \n",
      "9763  2024-03-28T18:15:31      231EN16           NaN          NaN   \n",
      "9764  2024-03-28T19:44:00      231EN22        3001.0    Knoxville   \n",
      "9765  2024-03-28T21:04:45      2314110        3001.0    Knoxville   \n",
      "\n",
      "      council_district  ward         tract  public_works_division  \\\n",
      "0                  NaN   NaN  4.200356e+10                    NaN   \n",
      "1                  NaN   NaN  4.200356e+10                    NaN   \n",
      "2                  NaN   NaN           NaN                    NaN   \n",
      "3                  6.0  25.0  4.200325e+10                    1.0   \n",
      "4                  2.0  28.0  4.200356e+10                    5.0   \n",
      "...                ...   ...           ...                    ...   \n",
      "9761               9.0  11.0  4.200311e+10                    2.0   \n",
      "9762               9.0  10.0  4.200310e+10                    2.0   \n",
      "9763               NaN   NaN           NaN                    NaN   \n",
      "9764               3.0  30.0  4.200330e+10                    5.0   \n",
      "9765               3.0  30.0  4.200330e+10                    5.0   \n",
      "\n",
      "      pli_division  police_zone fire_zone   latitude  longitude  \n",
      "0              NaN          NaN      3-16  40.441275 -79.882485  \n",
      "1              NaN          NaN      3-21  40.436342 -79.881003  \n",
      "2              NaN          NaN      1-1A        NaN        NaN  \n",
      "3             25.0          1.0      1-10  40.460303 -80.006980  \n",
      "4             28.0          6.0      1-16  40.449009 -80.076607  \n",
      "...            ...          ...       ...        ...        ...  \n",
      "9761          11.0          5.0       3-4  40.469396 -79.929881  \n",
      "9762          10.0          5.0       3-4  40.468226 -79.938179  \n",
      "9763           NaN          NaN      3-16        NaN        NaN  \n",
      "9764          30.0          3.0       4-6  40.417399 -79.988220  \n",
      "9765          30.0          3.0       4-6  40.418412 -79.990703  \n",
      "\n",
      "[9766 rows x 19 columns]\n"
     ]
    }
   ],
   "source": [
    "import pandas as pd\n",
    "import matplotlib\n",
    "import numpy as np\n",
    "\n",
    "fire_data = pd.read_csv(\"Fire-Incidents.csv\")\n",
    "print(fire_data)"
   ]
  },
  {
   "cell_type": "raw",
   "metadata": {},
   "source": [
    "I clean up the general information from the csv"
   ]
  },
  {
   "cell_type": "code",
   "execution_count": 16,
   "metadata": {},
   "outputs": [
    {
     "name": "stdout",
     "output_type": "stream",
     "text": [
      "      incident_type                     type_description neighborhood\n",
      "0             111.0                        Building fire          NaN\n",
      "1             111.0                        Building fire          NaN\n",
      "2             131.0               Passenger vehicle fire          NaN\n",
      "3             131.0               Passenger vehicle fire     Fineview\n",
      "4             111.0                        Building fire    Fairywood\n",
      "...             ...                                  ...          ...\n",
      "9761          111.0                        Building fire     Garfield\n",
      "9762          111.0                        Building fire     Garfield\n",
      "9763          111.0                        Building fire          NaN\n",
      "9764          111.0                        Building fire    Knoxville\n",
      "9765          113.0  Cooking fire, confined to container    Knoxville\n",
      "\n",
      "[9766 rows x 3 columns]\n"
     ]
    }
   ],
   "source": [
    "fire_data = fire_data.drop(columns=[\"_id\", \"call_no\", \"address\", \"alarms\", \"alarm_time\", \"primary_unit\", \"census_tract\", \"council_district\", \"ward\", \"tract\", \"public_works_division\", \"pli_division\", \"police_zone\", \"fire_zone\", \"latitude\", \"longitude\"])\n",
    "print(fire_data)"
   ]
  },
  {
   "cell_type": "raw",
   "metadata": {},
   "source": [
    "Note the types for later\n",
    " ? is a sign for generic\n",
    "100 - Fire?\n",
    "111 - Building Fire\n",
    "112 - Non-building Structure Fire\n",
    "113 - Cooking Fire, contained\n",
    "114 - Chimney Fire\n",
    "116 - Burner/Boiler\n",
    "117 - Trash Fire\n",
    "118 - Trash Fire\n",
    "130 - Property Fire\n",
    "131 - Passenger Vehicle Fire\n",
    "136 - Self-propelled motor home or recreational vehicle fire\n",
    "138 - Heavy Equipment Fire\n",
    "140 - Vegetation Fire\n",
    "142 - Brush Fire\n",
    "143 - Grass Fire\n",
    "150 - Outside rubbish Fire\n",
    "151 - Trash Fire\n",
    "152 - Dump Fire\n",
    "154 - Trash Receptical Fire\n",
    "160 - Outside Fire?\n",
    "162 - Outside Equipment Fire"
   ]
  },
  {
   "cell_type": "code",
   "execution_count": 68,
   "metadata": {},
   "outputs": [
    {
     "name": "stdout",
     "output_type": "stream",
     "text": [
      "111.0  -  Building fire\n",
      "131.0  -  Passenger vehicle fire\n",
      "150.0  -  Outside rubbish fire, Other\n",
      "113.0  -  Cooking fire, confined to container\n",
      "151.0  -  Outside rubbish, trash or waste fire\n",
      "118.0  -  Trash or rubbish fire, contained\n",
      "142.0  -  Brush or brush-and-grass mixture fire\n",
      "160.0  -  Special outside fire, Other\n",
      "130.0  -  Mobile property (vehicle) fire, Other\n",
      "116.0  -  Fuel burner/boiler malfunction, fire confined\n",
      "112.0  -  Fires in structure other than in a building\n",
      "138.0  -  Off-road vehicle or heavy equipment fire\n",
      "162.0  -  Outside equipment fire\n",
      "100.0  -  Fire, Other\n",
      "152.0  -  Garbage dump or sanitary landfill fire\n",
      "154.0  -  Dumpster or other outside trash receptacle fire\n",
      "143.0  -  Grass fire\n",
      "114.0  -  Chimney or flue fire, confined to chimney or flue\n",
      "140.0  -  Natural vegetation fire, Other\n",
      "117.0  -  Commercial Compactor fire, confined to rubbish\n",
      "136.0  -  Self-propelled motor home or recreational vehicle\n",
      "161.0  -  Outside storage fire\n",
      "153.0  -  Construction or demolition landfill fire\n",
      "141.0  -  Forest, woods or wildland fire\n",
      "132.0  -  Road freight or transport vehicle fire\n",
      "133.0  -  Rail vehicle fire\n",
      "123.0  -  Fire in portable building, fixed location\n",
      "120.0  -  Fire in mobile prop used as a fixed struc, Other\n",
      "134.0  -  Water vehicle fire\n",
      "163.0  -  Outside gas or vapor combustion explosion\n",
      "155.0  -  Outside stationary compactor/compacted trash fire\n",
      "173.0  -  Cultivated trees or nursery stock fire\n",
      "115.0  -  Incinerator overload or malfunction, fire confined\n",
      "171.0  -  Cultivated grain or crop fire\n",
      "164.0  -  Outside mailbox fire\n",
      "170.0  -  Cultivated vegetation, crop fire, Other\n",
      "121.0  -  Fire in mobile home used as fixed residence\n",
      "122.0  -  Fire in motor home, camper, recreational vehicle\n",
      "137.0  -  Camper or recreational vehicle (RV) fire\n",
      "nan  -  Structure fire, Other (conversion only)\n"
     ]
    },
    {
     "ename": "IndexError",
     "evalue": "index 40 is out of bounds for axis 0 with size 40",
     "output_type": "error",
     "traceback": [
      "\u001b[0;31m---------------------------------------------------------------------------\u001b[0m",
      "\u001b[0;31mIndexError\u001b[0m                                Traceback (most recent call last)",
      "\u001b[0;32m<ipython-input-68-c7c260cbfa22>\u001b[0m in \u001b[0;36m<module>\u001b[0;34m\u001b[0m\n\u001b[1;32m      7\u001b[0m \u001b[0mlist2\u001b[0m \u001b[0;34m=\u001b[0m \u001b[0;34m(\u001b[0m\u001b[0mfire_data\u001b[0m\u001b[0;34m[\u001b[0m\u001b[0;34m\"type_description\"\u001b[0m\u001b[0;34m]\u001b[0m\u001b[0;34m.\u001b[0m\u001b[0munique\u001b[0m\u001b[0;34m(\u001b[0m\u001b[0;34m)\u001b[0m\u001b[0;34m)\u001b[0m\u001b[0;34m\u001b[0m\u001b[0;34m\u001b[0m\u001b[0m\n\u001b[1;32m      8\u001b[0m \u001b[0;32mfor\u001b[0m \u001b[0mx\u001b[0m \u001b[0;32min\u001b[0m \u001b[0mrange\u001b[0m\u001b[0;34m(\u001b[0m\u001b[0mlen\u001b[0m\u001b[0;34m(\u001b[0m\u001b[0mlist1\u001b[0m\u001b[0;34m)\u001b[0m\u001b[0;34m)\u001b[0m\u001b[0;34m:\u001b[0m\u001b[0;34m\u001b[0m\u001b[0;34m\u001b[0m\u001b[0m\n\u001b[0;32m----> 9\u001b[0;31m     \u001b[0mprint\u001b[0m\u001b[0;34m(\u001b[0m\u001b[0mlist1\u001b[0m\u001b[0;34m[\u001b[0m\u001b[0mx\u001b[0m\u001b[0;34m]\u001b[0m\u001b[0;34m,\u001b[0m \u001b[0;34m\" - \"\u001b[0m\u001b[0;34m,\u001b[0m \u001b[0mlist2\u001b[0m\u001b[0;34m[\u001b[0m\u001b[0mx\u001b[0m\u001b[0;34m]\u001b[0m\u001b[0;34m)\u001b[0m\u001b[0;34m\u001b[0m\u001b[0;34m\u001b[0m\u001b[0m\n\u001b[0m",
      "\u001b[0;31mIndexError\u001b[0m: index 40 is out of bounds for axis 0 with size 40"
     ]
    }
   ],
   "source": [
    "#query_mask = (fire_data[\"type_description\"]) != \"Building fire\"# and fire_data[\"neighborhood\"] != \"NaN\"\n",
    "fire_types = [100, 111, 112, 113, 114, 116, 117, 118, 130, 131, 136, 138, 140, 142, 143, 150, 151, 152, 154, 160, 162]\n",
    "query_mask = fire_data[\"incident_type\"] != 100\n",
    "new_fire = fire_data[query_mask]\n",
    "#print(new_fire)\n",
    "list1 = (fire_data[\"incident_type\"].unique())\n",
    "list2 = (fire_data[\"type_description\"].unique())\n",
    "for x in range(len(list1)):\n",
    "    print(list1[x], \" - \", list2[x])"
   ]
  }
 ],
 "metadata": {
  "kernelspec": {
   "display_name": "Python 3",
   "language": "python",
   "name": "python3"
  },
  "language_info": {
   "codemirror_mode": {
    "name": "ipython",
    "version": 3
   },
   "file_extension": ".py",
   "mimetype": "text/x-python",
   "name": "python",
   "nbconvert_exporter": "python",
   "pygments_lexer": "ipython3",
   "version": "3.8.3"
  }
 },
 "nbformat": 4,
 "nbformat_minor": 4
}
